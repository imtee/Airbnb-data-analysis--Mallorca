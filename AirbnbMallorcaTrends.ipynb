{
 "cells": [
  {
   "cell_type": "markdown",
   "metadata": {},
   "source": [
    "# Airbnb data analysis - Mallorca, Spain\n",
    "In this notebook, we will try to get an idea about the landscape of Airbnb housing in Mallorca, Spain. For that reason, we used the data provided at http://insideairbnb.com/. The datasets describe the listing activity of homestays in the island between April 2020 to April 2021, and it  is basically a snapshot of home-stays  available at a particular time, in this case between 23rd and 25th of April of 2020. \n",
    "\n",
    "In addition, we followed the <b>CRISP-DM methodology</b> that consists of (1) business Understanding, (2) data Understanding, (3) data preparation, (4) modeling, (5) evaluation, and (6) deployment.\n",
    "\n",
    "As of <b>business understanding</b>, we defined the following questions:\n",
    "- What are the top regions with the highest listings in Airbnb?\n",
    "- Which types of accommodations are mostly offered?\n",
    "- What are the prices of accommodations listed?\n",
    "- What are the reviews and ratings of previous travelers?"
   ]
  },
  {
   "cell_type": "markdown",
   "metadata": {},
   "source": [
    "## A Look at the Data\n",
    "In order to get a better <b>understanding of the data</b> to answer our questions, let's take a look at some of the characteristics of the datasets that we will use.\n",
    "\n",
    "First, let's read in the data and necessary libraries."
   ]
  },
  {
   "cell_type": "code",
   "execution_count": 32,
   "metadata": {},
   "outputs": [],
   "source": [
    "import pandas as pd\n",
    "import numpy as np\n",
    "import matplotlib.pyplot as plt\n",
    "import seaborn as sns\n",
    "\n",
    "%matplotlib inline"
   ]
  },
  {
   "cell_type": "code",
   "execution_count": 33,
   "metadata": {},
   "outputs": [
    {
     "name": "stdout",
     "output_type": "stream",
     "text": [
      "(17633, 106)\n"
     ]
    },
    {
     "data": {
      "text/html": [
       "<div>\n",
       "<style scoped>\n",
       "    .dataframe tbody tr th:only-of-type {\n",
       "        vertical-align: middle;\n",
       "    }\n",
       "\n",
       "    .dataframe tbody tr th {\n",
       "        vertical-align: top;\n",
       "    }\n",
       "\n",
       "    .dataframe thead th {\n",
       "        text-align: right;\n",
       "    }\n",
       "</style>\n",
       "<table border=\"1\" class=\"dataframe\">\n",
       "  <thead>\n",
       "    <tr style=\"text-align: right;\">\n",
       "      <th></th>\n",
       "      <th>listing_id</th>\n",
       "      <th>date</th>\n",
       "      <th>available</th>\n",
       "      <th>price</th>\n",
       "      <th>adjusted_price</th>\n",
       "      <th>minimum_nights</th>\n",
       "      <th>maximum_nights</th>\n",
       "    </tr>\n",
       "  </thead>\n",
       "  <tbody>\n",
       "    <tr>\n",
       "      <th>0</th>\n",
       "      <td>441723</td>\n",
       "      <td>2020-04-24</td>\n",
       "      <td>f</td>\n",
       "      <td>$69.00</td>\n",
       "      <td>$69.00</td>\n",
       "      <td>3.0</td>\n",
       "      <td>21.0</td>\n",
       "    </tr>\n",
       "    <tr>\n",
       "      <th>1</th>\n",
       "      <td>11547</td>\n",
       "      <td>2020-04-24</td>\n",
       "      <td>f</td>\n",
       "      <td>$75.00</td>\n",
       "      <td>$75.00</td>\n",
       "      <td>6.0</td>\n",
       "      <td>1125.0</td>\n",
       "    </tr>\n",
       "    <tr>\n",
       "      <th>2</th>\n",
       "      <td>11547</td>\n",
       "      <td>2020-04-25</td>\n",
       "      <td>t</td>\n",
       "      <td>$75.00</td>\n",
       "      <td>$75.00</td>\n",
       "      <td>6.0</td>\n",
       "      <td>1125.0</td>\n",
       "    </tr>\n",
       "    <tr>\n",
       "      <th>3</th>\n",
       "      <td>11547</td>\n",
       "      <td>2020-04-26</td>\n",
       "      <td>t</td>\n",
       "      <td>$75.00</td>\n",
       "      <td>$75.00</td>\n",
       "      <td>6.0</td>\n",
       "      <td>1125.0</td>\n",
       "    </tr>\n",
       "    <tr>\n",
       "      <th>4</th>\n",
       "      <td>11547</td>\n",
       "      <td>2020-04-27</td>\n",
       "      <td>t</td>\n",
       "      <td>$75.00</td>\n",
       "      <td>$75.00</td>\n",
       "      <td>6.0</td>\n",
       "      <td>1125.0</td>\n",
       "    </tr>\n",
       "  </tbody>\n",
       "</table>\n",
       "</div>"
      ],
      "text/plain": [
       "   listing_id       date available   price adjusted_price  minimum_nights  \\\n",
       "0      441723 2020-04-24         f  $69.00         $69.00             3.0   \n",
       "1       11547 2020-04-24         f  $75.00         $75.00             6.0   \n",
       "2       11547 2020-04-25         t  $75.00         $75.00             6.0   \n",
       "3       11547 2020-04-26         t  $75.00         $75.00             6.0   \n",
       "4       11547 2020-04-27         t  $75.00         $75.00             6.0   \n",
       "\n",
       "   maximum_nights  \n",
       "0            21.0  \n",
       "1          1125.0  \n",
       "2          1125.0  \n",
       "3          1125.0  \n",
       "4          1125.0  "
      ]
     },
     "execution_count": 33,
     "metadata": {},
     "output_type": "execute_result"
    }
   ],
   "source": [
    "listings= pd.read_csv(\"./listings.csv\", low_memory=False, parse_dates=['last_scraped'])\n",
    "calendar = pd.read_csv(\"./calendar.csv\", parse_dates=['date'])\n",
    "\n",
    "print(listings.shape)\n",
    "listings.head()\n",
    "calendar.head()"
   ]
  },
  {
   "cell_type": "markdown",
   "metadata": {},
   "source": [
    "One of the important things in <b>data understanding</b> is to choose the columns that best answer our questions of interest. We went through the columns list of our 'listings' dataset and some of the interesting columns that we'll be working on are listed below:\n",
    "\n",
    "- What are the top regions with the highest listings in Airbnb?  \n",
    "'neighbourhood_cleansed'  \n",
    "  \n",
    "- Which types of accommodations are mostly offered?  \n",
    "'property_type', and 'room_type'  \n",
    "  \n",
    "- What are the prices of accommodations listed?  \n",
    "'price', 'weekly_price', 'monthly_price'  \n",
    "  \n",
    "- What are the reviews and ratings of previous travelers?  \n",
    "'number_of_reviews', 'review_scores_rating', 'review_scores_accuracy', 'review_scores_cleanliness', 'review_scores_checkin', 'review_scores_communication', 'review_scores_location', 'review_scores_value'  \n",
    "  \n",
    "'calendar' dataset will be used to gain more insight about prices over time in the third question \"What are the prices of accommodations listed?\". Hence, we will be focusing on 'date', 'available', and 'price' columns."
   ]
  },
  {
   "cell_type": "code",
   "execution_count": 34,
   "metadata": {
    "scrolled": true
   },
   "outputs": [
    {
     "data": {
      "text/plain": [
       "['id',\n",
       " 'listing_url',\n",
       " 'scrape_id',\n",
       " 'last_scraped',\n",
       " 'name',\n",
       " 'summary',\n",
       " 'space',\n",
       " 'description',\n",
       " 'experiences_offered',\n",
       " 'neighborhood_overview',\n",
       " 'notes',\n",
       " 'transit',\n",
       " 'access',\n",
       " 'interaction',\n",
       " 'house_rules',\n",
       " 'thumbnail_url',\n",
       " 'medium_url',\n",
       " 'picture_url',\n",
       " 'xl_picture_url',\n",
       " 'host_id',\n",
       " 'host_url',\n",
       " 'host_name',\n",
       " 'host_since',\n",
       " 'host_location',\n",
       " 'host_about',\n",
       " 'host_response_time',\n",
       " 'host_response_rate',\n",
       " 'host_acceptance_rate',\n",
       " 'host_is_superhost',\n",
       " 'host_thumbnail_url',\n",
       " 'host_picture_url',\n",
       " 'host_neighbourhood',\n",
       " 'host_listings_count',\n",
       " 'host_total_listings_count',\n",
       " 'host_verifications',\n",
       " 'host_has_profile_pic',\n",
       " 'host_identity_verified',\n",
       " 'street',\n",
       " 'neighbourhood',\n",
       " 'neighbourhood_cleansed',\n",
       " 'neighbourhood_group_cleansed',\n",
       " 'city',\n",
       " 'state',\n",
       " 'zipcode',\n",
       " 'market',\n",
       " 'smart_location',\n",
       " 'country_code',\n",
       " 'country',\n",
       " 'latitude',\n",
       " 'longitude',\n",
       " 'is_location_exact',\n",
       " 'property_type',\n",
       " 'room_type',\n",
       " 'accommodates',\n",
       " 'bathrooms',\n",
       " 'bedrooms',\n",
       " 'beds',\n",
       " 'bed_type',\n",
       " 'amenities',\n",
       " 'square_feet',\n",
       " 'price',\n",
       " 'weekly_price',\n",
       " 'monthly_price',\n",
       " 'security_deposit',\n",
       " 'cleaning_fee',\n",
       " 'guests_included',\n",
       " 'extra_people',\n",
       " 'minimum_nights',\n",
       " 'maximum_nights',\n",
       " 'minimum_minimum_nights',\n",
       " 'maximum_minimum_nights',\n",
       " 'minimum_maximum_nights',\n",
       " 'maximum_maximum_nights',\n",
       " 'minimum_nights_avg_ntm',\n",
       " 'maximum_nights_avg_ntm',\n",
       " 'calendar_updated',\n",
       " 'has_availability',\n",
       " 'availability_30',\n",
       " 'availability_60',\n",
       " 'availability_90',\n",
       " 'availability_365',\n",
       " 'calendar_last_scraped',\n",
       " 'number_of_reviews',\n",
       " 'number_of_reviews_ltm',\n",
       " 'first_review',\n",
       " 'last_review',\n",
       " 'review_scores_rating',\n",
       " 'review_scores_accuracy',\n",
       " 'review_scores_cleanliness',\n",
       " 'review_scores_checkin',\n",
       " 'review_scores_communication',\n",
       " 'review_scores_location',\n",
       " 'review_scores_value',\n",
       " 'requires_license',\n",
       " 'license',\n",
       " 'jurisdiction_names',\n",
       " 'instant_bookable',\n",
       " 'is_business_travel_ready',\n",
       " 'cancellation_policy',\n",
       " 'require_guest_profile_picture',\n",
       " 'require_guest_phone_verification',\n",
       " 'calculated_host_listings_count',\n",
       " 'calculated_host_listings_count_entire_homes',\n",
       " 'calculated_host_listings_count_private_rooms',\n",
       " 'calculated_host_listings_count_shared_rooms',\n",
       " 'reviews_per_month']"
      ]
     },
     "execution_count": 34,
     "metadata": {},
     "output_type": "execute_result"
    }
   ],
   "source": [
    "#List of the columns' names in the dataset\n",
    "listings.columns.tolist()"
   ]
  },
  {
   "cell_type": "markdown",
   "metadata": {},
   "source": [
    "There are many columns that we don't need, so we will start our <b>data preparation</b> by creating a dataframe with the columns of interest."
   ]
  },
  {
   "cell_type": "code",
   "execution_count": 35,
   "metadata": {},
   "outputs": [],
   "source": [
    "new_listing = listings[['id',\n",
    "'listing_url',\n",
    "'name',\n",
    "'neighbourhood_cleansed',\n",
    "'property_type',\n",
    "'room_type',\n",
    "'price',\n",
    "'weekly_price',\n",
    "'monthly_price',\n",
    "'calendar_last_scraped',\n",
    "'number_of_reviews',\n",
    "'number_of_reviews_ltm',\n",
    "'first_review',\n",
    "'last_review',\n",
    "'review_scores_rating',\n",
    "'review_scores_accuracy',\n",
    "'review_scores_cleanliness',\n",
    "'review_scores_checkin',\n",
    "'review_scores_communication',\n",
    "'review_scores_location',\n",
    "'review_scores_value']]"
   ]
  },
  {
   "cell_type": "code",
   "execution_count": 36,
   "metadata": {},
   "outputs": [
    {
     "data": {
      "text/plain": [
       "id                               int64\n",
       "listing_url                     object\n",
       "name                            object\n",
       "neighbourhood_cleansed          object\n",
       "property_type                   object\n",
       "room_type                       object\n",
       "price                           object\n",
       "weekly_price                    object\n",
       "monthly_price                   object\n",
       "calendar_last_scraped           object\n",
       "number_of_reviews                int64\n",
       "number_of_reviews_ltm            int64\n",
       "first_review                    object\n",
       "last_review                     object\n",
       "review_scores_rating           float64\n",
       "review_scores_accuracy         float64\n",
       "review_scores_cleanliness      float64\n",
       "review_scores_checkin          float64\n",
       "review_scores_communication    float64\n",
       "review_scores_location         float64\n",
       "review_scores_value            float64\n",
       "dtype: object"
      ]
     },
     "execution_count": 36,
     "metadata": {},
     "output_type": "execute_result"
    }
   ],
   "source": [
    "new_listing.dtypes"
   ]
  },
  {
   "cell_type": "markdown",
   "metadata": {},
   "source": [
    "Our 'new_listing' dataset include some data types that need to be corrected like 'price', 'weekly_price', and 'monthly_price'. However let's check for underfined values first."
   ]
  },
  {
   "cell_type": "code",
   "execution_count": 37,
   "metadata": {},
   "outputs": [
    {
     "data": {
      "text/plain": [
       "id                                 0\n",
       "listing_url                        0\n",
       "name                               1\n",
       "neighbourhood_cleansed             0\n",
       "property_type                      0\n",
       "room_type                          0\n",
       "price                              0\n",
       "weekly_price                   17110\n",
       "monthly_price                  17273\n",
       "calendar_last_scraped              0\n",
       "number_of_reviews                  0\n",
       "number_of_reviews_ltm              0\n",
       "first_review                    6841\n",
       "last_review                     6841\n",
       "review_scores_rating            7072\n",
       "review_scores_accuracy          7076\n",
       "review_scores_cleanliness       7074\n",
       "review_scores_checkin           7079\n",
       "review_scores_communication     7078\n",
       "review_scores_location          7079\n",
       "review_scores_value             7081\n",
       "dtype: int64"
      ]
     },
     "execution_count": 37,
     "metadata": {},
     "output_type": "execute_result"
    }
   ],
   "source": [
    "new_listing.isna().sum()"
   ]
  },
  {
   "cell_type": "markdown",
   "metadata": {},
   "source": [
    "The price per night has no missing values while the weekly and monthly prices have so many missing values, so we'll just focus on the price per night. The columns related to reviews' question have many missing values as well but we still can perform our data analysis with them and get good results.   \n",
    "So, let's put the price in correct format!"
   ]
  },
  {
   "cell_type": "code",
   "execution_count": 24,
   "metadata": {},
   "outputs": [
    {
     "name": "stderr",
     "output_type": "stream",
     "text": [
      "C:\\ProgramData\\Anaconda3\\lib\\site-packages\\ipykernel_launcher.py:1: SettingWithCopyWarning: \n",
      "A value is trying to be set on a copy of a slice from a DataFrame.\n",
      "Try using .loc[row_indexer,col_indexer] = value instead\n",
      "\n",
      "See the caveats in the documentation: https://pandas.pydata.org/pandas-docs/stable/user_guide/indexing.html#returning-a-view-versus-a-copy\n",
      "  \"\"\"Entry point for launching an IPython kernel.\n"
     ]
    }
   ],
   "source": [
    "new_listing['price'] = new_listing['price'].str.replace('[\\$\\,]','').astype(float)"
   ]
  },
  {
   "cell_type": "markdown",
   "metadata": {},
   "source": [
    "Moving to 'calendar' dataset, we'll be performing the same process."
   ]
  },
  {
   "cell_type": "code",
   "execution_count": 25,
   "metadata": {},
   "outputs": [
    {
     "data": {
      "text/plain": [
       "listing_id                 int64\n",
       "date              datetime64[ns]\n",
       "available                 object\n",
       "price                     object\n",
       "adjusted_price            object\n",
       "minimum_nights           float64\n",
       "maximum_nights           float64\n",
       "dtype: object"
      ]
     },
     "execution_count": 25,
     "metadata": {},
     "output_type": "execute_result"
    }
   ],
   "source": [
    "calendar.dtypes"
   ]
  },
  {
   "cell_type": "code",
   "execution_count": 26,
   "metadata": {},
   "outputs": [
    {
     "data": {
      "text/plain": [
       "listing_id        0\n",
       "date              0\n",
       "available         0\n",
       "price             0\n",
       "adjusted_price    0\n",
       "minimum_nights    9\n",
       "maximum_nights    9\n",
       "dtype: int64"
      ]
     },
     "execution_count": 26,
     "metadata": {},
     "output_type": "execute_result"
    }
   ],
   "source": [
    "calendar.isna().sum()"
   ]
  },
  {
   "cell_type": "code",
   "execution_count": 38,
   "metadata": {},
   "outputs": [],
   "source": [
    "calendar['price'] = calendar['price'].str.replace('[\\$\\,]','').astype(float)"
   ]
  },
  {
   "cell_type": "markdown",
   "metadata": {},
   "source": [
    "In principle, we are ready to move to the next step. However, we will be doing more data cleaning like dealing with outliners as part of our <b>data preparation</b> while going through each question .  \n",
    "\n",
    "We do not need to do any predictive <b>modeling</b>. We we will be only using some descriptive and a little inferential statistics to retrieve the results. So we jump straight to <b>evaluation</b> step.\n"
   ]
  },
  {
   "cell_type": "markdown",
   "metadata": {},
   "source": [
    "## What are the top regions with the highest listings in Airbnb?\n",
    "\n",
    "First we'd like to see what are the top regions with the  highest listings, so we'll group the listings pertaining to each region and count its frequncy."
   ]
  },
  {
   "cell_type": "code",
   "execution_count": 29,
   "metadata": {},
   "outputs": [
    {
     "data": {
      "text/plain": [
       "17633"
      ]
     },
     "execution_count": 29,
     "metadata": {},
     "output_type": "execute_result"
    }
   ],
   "source": [
    "#Total number of listings\n",
    "new_listing.id.count()"
   ]
  },
  {
   "cell_type": "code",
   "execution_count": 54,
   "metadata": {},
   "outputs": [],
   "source": [
    "def type_counting(df, col_name):\n",
    "    '''\n",
    "    Returns a dataframe of frequency grouped by column_type.\n",
    "\n",
    "            Parameters:\n",
    "                    df - Panda dataframe that we'll retrieve data from it\n",
    "                    col_name - The column name by which the counting is grouped\n",
    "\n",
    "            Returns:\n",
    "                     df_ordered- Panda Dataframe grouped by col_name and ordered by frequency (count)\n",
    "    '''\n",
    "     \n",
    "    df_ordered = df.groupby(by=[col_name]).count()[['id']].sort_values(by= ['id'], ascending=False).reset_index(drop=False)\n",
    "\n",
    "    return df_ordered"
   ]
  },
  {
   "cell_type": "code",
   "execution_count": 57,
   "metadata": {
    "scrolled": true
   },
   "outputs": [
    {
     "data": {
      "text/plain": [
       "0             Pollença\n",
       "1    Palma de Mallorca\n",
       "2              Alcúdia\n",
       "3              Manacor\n",
       "4             Santanyí\n",
       "5      Santa Margalida\n",
       "6             Felanitx\n",
       "7            Llucmajor\n",
       "8               Campos\n",
       "9            Capdepera\n",
       "Name: neighbourhood_cleansed, dtype: object"
      ]
     },
     "execution_count": 57,
     "metadata": {},
     "output_type": "execute_result"
    }
   ],
   "source": [
    "#List of top regions with the highest offer\n",
    "regions_ordered = type_counting(new_listing, 'neighbourhood_cleansed')\n",
    "top_regions = regions_ordered['neighbourhood_cleansed'][:10]\n",
    "top_regions\n"
   ]
  },
  {
   "cell_type": "code",
   "execution_count": 68,
   "metadata": {},
   "outputs": [],
   "source": [
    "def plot_histogram(df, col_name):\n",
    "    '''\n",
    "    Plots a hisotgram where col_name is the column of interest\n",
    "\n",
    "            Parameters:\n",
    "                    df - Panda dataframe that we'll retrieve data from it\n",
    "                    col_name - The column name of interest\n",
    "\n",
    "    '''\n",
    "     \n",
    "    base_color = sns.color_palette()[0]\n",
    "    col_counts = df[col_name].value_counts()\n",
    "    col_order = col_counts.index\n",
    "    sns.countplot(data = df, y = col_name, color = base_color, order = col_order[:10]);\n",
    "\n",
    "    n_listings= df.shape[0]\n",
    "    for i in range(10):\n",
    "        count = col_counts[i]\n",
    "        pct_string = '{:0.1f}%'.format(100*count/n_listings)\n",
    "        plt.text(count, i, pct_string, va = 'center')\n"
   ]
  },
  {
   "cell_type": "code",
   "execution_count": 69,
   "metadata": {},
   "outputs": [
    {
     "data": {
      "text/plain": [
       "Text(0, 0.5, 'Region')"
      ]
     },
     "execution_count": 69,
     "metadata": {},
     "output_type": "execute_result"
    },
    {
     "data": {
      "image/png": "[encoded data removed]",
      "text/plain": [
       "<Figure size 432x288 with 1 Axes>"
      ]
     },
     "metadata": {
      "needs_background": "light"
     },
     "output_type": "display_data"
    }
   ],
   "source": [
    "#plot regions\n",
    "plot_histogram(new_listing, 'neighbourhood_cleansed')\n",
    "plt.ylabel(\"Region\")"
   ]
  },
  {
   "cell_type": "markdown",
   "metadata": {},
   "source": [
    "## Which types of accommodations are mostly offered?\n",
    "\n",
    "Next we'd like to know what types of housing each region offers"
   ]
  },
  {
   "cell_type": "code",
   "execution_count": 59,
   "metadata": {},
   "outputs": [
    {
     "data": {
      "text/plain": [
       "Entire home/apt    0.899110\n",
       "Private room       0.085578\n",
       "Hotel room         0.014348\n",
       "Shared room        0.000964\n",
       "Name: room_type, dtype: float64"
      ]
     },
     "execution_count": 59,
     "metadata": {},
     "output_type": "execute_result"
    }
   ],
   "source": [
    "#room types\n",
    "new_listing['room_type'].value_counts()/ new_listing['room_type'].count()"
   ]
  },
  {
   "cell_type": "code",
   "execution_count": 60,
   "metadata": {},
   "outputs": [
    {
     "data": {
      "image/png": "[encoded data removed]",
      "text/plain": [
       "<Figure size 432x288 with 1 Axes>"
      ]
     },
     "metadata": {},
     "output_type": "display_data"
    }
   ],
   "source": [
    "#plot room type\n",
    "sorted_counts = new_listing['room_type'].value_counts()\n",
    "labels = sorted_counts.index \n",
    "plt.pie(sorted_counts, startangle = 90,\n",
    "        counterclock = False, wedgeprops = {'width' : 0.4});\n",
    "\n",
    "plt.legend(labels, loc=\"best\");\n",
    "plt.axis('square');\n",
    "plt.tight_layout()\n",
    "\n",
    "plt.show()\n"
   ]
  },
  {
   "cell_type": "code",
   "execution_count": 61,
   "metadata": {},
   "outputs": [
    {
     "name": "stderr",
     "output_type": "stream",
     "text": [
      "C:\\ProgramData\\Anaconda3\\lib\\site-packages\\pandas\\core\\frame.py:4133: SettingWithCopyWarning: \n",
      "A value is trying to be set on a copy of a slice from a DataFrame\n",
      "\n",
      "See the caveats in the documentation: https://pandas.pydata.org/pandas-docs/stable/user_guide/indexing.html#returning-a-view-versus-a-copy\n",
      "  errors=errors,\n"
     ]
    },
    {
     "data": {
      "text/html": [
       "<div>\n",
       "<style scoped>\n",
       "    .dataframe tbody tr th:only-of-type {\n",
       "        vertical-align: middle;\n",
       "    }\n",
       "\n",
       "    .dataframe tbody tr th {\n",
       "        vertical-align: top;\n",
       "    }\n",
       "\n",
       "    .dataframe thead th {\n",
       "        text-align: right;\n",
       "    }\n",
       "</style>\n",
       "<table border=\"1\" class=\"dataframe\">\n",
       "  <thead>\n",
       "    <tr style=\"text-align: right;\">\n",
       "      <th></th>\n",
       "      <th></th>\n",
       "      <th>count</th>\n",
       "    </tr>\n",
       "    <tr>\n",
       "      <th>room_type</th>\n",
       "      <th>region</th>\n",
       "      <th></th>\n",
       "    </tr>\n",
       "  </thead>\n",
       "  <tbody>\n",
       "    <tr>\n",
       "      <th rowspan=\"5\" valign=\"top\">Private room</th>\n",
       "      <th>Palma de Mallorca</th>\n",
       "      <td>692</td>\n",
       "    </tr>\n",
       "    <tr>\n",
       "      <th>Sóller</th>\n",
       "      <td>57</td>\n",
       "    </tr>\n",
       "    <tr>\n",
       "      <th>Calvià</th>\n",
       "      <td>52</td>\n",
       "    </tr>\n",
       "    <tr>\n",
       "      <th>Llucmajor</th>\n",
       "      <td>51</td>\n",
       "    </tr>\n",
       "    <tr>\n",
       "      <th>Santanyí</th>\n",
       "      <td>46</td>\n",
       "    </tr>\n",
       "  </tbody>\n",
       "</table>\n",
       "</div>"
      ],
      "text/plain": [
       "                                count\n",
       "room_type    region                  \n",
       "Private room Palma de Mallorca    692\n",
       "             Sóller                57\n",
       "             Calvià                52\n",
       "             Llucmajor             51\n",
       "             Santanyí              46"
      ]
     },
     "execution_count": 61,
     "metadata": {},
     "output_type": "execute_result"
    }
   ],
   "source": [
    "#See where private rooms are concentrated\n",
    "df_private_room = new_listing.loc[new_listing['room_type'] == 'Private room']\n",
    "df_private_room.rename(columns = {'neighbourhood_cleansed':'region', 'id':'count'}, inplace = True)\n",
    "df_private_room.groupby(by=['room_type', 'region']).count()[['count']].sort_values(by= ['room_type', 'count'], ascending=False).head()\n"
   ]
  },
  {
   "cell_type": "code",
   "execution_count": 63,
   "metadata": {},
   "outputs": [
    {
     "data": {
      "text/plain": [
       "0                House\n",
       "1                Villa\n",
       "2            Apartment\n",
       "3              Cottage\n",
       "4               Chalet\n",
       "5            Townhouse\n",
       "6          Condominium\n",
       "7       Boutique hotel\n",
       "8    Bed and breakfast\n",
       "9           Guesthouse\n",
       "Name: property_type, dtype: object"
      ]
     },
     "execution_count": 63,
     "metadata": {},
     "output_type": "execute_result"
    }
   ],
   "source": [
    "#Top types of properties\n",
    "properties_ordered = type_counting(new_listing, 'property_type')\n",
    "top_properties = properties_ordered['property_type'][:10]\n",
    "top_properties"
   ]
  },
  {
   "cell_type": "code",
   "execution_count": 70,
   "metadata": {},
   "outputs": [
    {
     "data": {
      "text/plain": [
       "Text(0, 0.5, 'Property type')"
      ]
     },
     "execution_count": 70,
     "metadata": {},
     "output_type": "execute_result"
    },
    {
     "data": {
      "image/png": "[encoded data removed]",
      "text/plain": [
       "<Figure size 432x288 with 1 Axes>"
      ]
     },
     "metadata": {
      "needs_background": "light"
     },
     "output_type": "display_data"
    }
   ],
   "source": [
    "#plot properties\n",
    "plot_histogram(new_listing, 'property_type')\n",
    "plt.ylabel(\"Property type\")   "
   ]
  },
  {
   "cell_type": "code",
   "execution_count": 10,
   "metadata": {
    "scrolled": false
   },
   "outputs": [
    {
     "name": "stderr",
     "output_type": "stream",
     "text": [
      "C:\\ProgramData\\Anaconda3\\lib\\site-packages\\pandas\\core\\frame.py:4133: SettingWithCopyWarning: \n",
      "A value is trying to be set on a copy of a slice from a DataFrame\n",
      "\n",
      "See the caveats in the documentation: https://pandas.pydata.org/pandas-docs/stable/user_guide/indexing.html#returning-a-view-versus-a-copy\n",
      "  errors=errors,\n"
     ]
    },
    {
     "data": {
      "text/html": [
       "<div>\n",
       "<style scoped>\n",
       "    .dataframe tbody tr th:only-of-type {\n",
       "        vertical-align: middle;\n",
       "    }\n",
       "\n",
       "    .dataframe tbody tr th {\n",
       "        vertical-align: top;\n",
       "    }\n",
       "\n",
       "    .dataframe thead th {\n",
       "        text-align: right;\n",
       "    }\n",
       "</style>\n",
       "<table border=\"1\" class=\"dataframe\">\n",
       "  <thead>\n",
       "    <tr style=\"text-align: right;\">\n",
       "      <th></th>\n",
       "      <th></th>\n",
       "      <th>count</th>\n",
       "    </tr>\n",
       "    <tr>\n",
       "      <th>region</th>\n",
       "      <th>property_type</th>\n",
       "      <th></th>\n",
       "    </tr>\n",
       "  </thead>\n",
       "  <tbody>\n",
       "    <tr>\n",
       "      <th rowspan=\"5\" valign=\"top\">Pollença</th>\n",
       "      <th>Villa</th>\n",
       "      <td>986</td>\n",
       "    </tr>\n",
       "    <tr>\n",
       "      <th>House</th>\n",
       "      <td>434</td>\n",
       "    </tr>\n",
       "    <tr>\n",
       "      <th>Apartment</th>\n",
       "      <td>433</td>\n",
       "    </tr>\n",
       "    <tr>\n",
       "      <th>Cottage</th>\n",
       "      <td>73</td>\n",
       "    </tr>\n",
       "    <tr>\n",
       "      <th>Chalet</th>\n",
       "      <td>48</td>\n",
       "    </tr>\n",
       "    <tr>\n",
       "      <th rowspan=\"5\" valign=\"top\">Palma de Mallorca</th>\n",
       "      <th>Apartment</th>\n",
       "      <td>1182</td>\n",
       "    </tr>\n",
       "    <tr>\n",
       "      <th>House</th>\n",
       "      <td>285</td>\n",
       "    </tr>\n",
       "    <tr>\n",
       "      <th>Villa</th>\n",
       "      <td>158</td>\n",
       "    </tr>\n",
       "    <tr>\n",
       "      <th>Loft</th>\n",
       "      <td>48</td>\n",
       "    </tr>\n",
       "    <tr>\n",
       "      <th>Chalet</th>\n",
       "      <td>45</td>\n",
       "    </tr>\n",
       "    <tr>\n",
       "      <th rowspan=\"5\" valign=\"top\">Alcúdia</th>\n",
       "      <th>Apartment</th>\n",
       "      <td>499</td>\n",
       "    </tr>\n",
       "    <tr>\n",
       "      <th>Villa</th>\n",
       "      <td>475</td>\n",
       "    </tr>\n",
       "    <tr>\n",
       "      <th>House</th>\n",
       "      <td>408</td>\n",
       "    </tr>\n",
       "    <tr>\n",
       "      <th>Chalet</th>\n",
       "      <td>111</td>\n",
       "    </tr>\n",
       "    <tr>\n",
       "      <th>Townhouse</th>\n",
       "      <td>50</td>\n",
       "    </tr>\n",
       "  </tbody>\n",
       "</table>\n",
       "</div>"
      ],
      "text/plain": [
       "                                 count\n",
       "region            property_type       \n",
       "Pollença          Villa            986\n",
       "                  House            434\n",
       "                  Apartment        433\n",
       "                  Cottage           73\n",
       "                  Chalet            48\n",
       "Palma de Mallorca Apartment       1182\n",
       "                  House            285\n",
       "                  Villa            158\n",
       "                  Loft              48\n",
       "                  Chalet            45\n",
       "Alcúdia           Apartment        499\n",
       "                  Villa            475\n",
       "                  House            408\n",
       "                  Chalet           111\n",
       "                  Townhouse         50"
      ]
     },
     "execution_count": 10,
     "metadata": {},
     "output_type": "execute_result"
    }
   ],
   "source": [
    "df_top3 = new_listing.loc[new_listing['neighbourhood_cleansed'].isin(top_regions[:3])]\n",
    "df_top3.rename(columns = {'neighbourhood_cleansed':'region', 'id':'count'}, inplace = True)\n",
    "fff = df_top3.groupby(by=[ 'region', 'property_type']).count()[['count']].sort_values(by= ['region','count'], ascending=False)\n",
    "fff.groupby(['region']).head(5)"
   ]
  },
  {
   "cell_type": "markdown",
   "metadata": {},
   "source": [
    "## What are the prices of accommodations listed?\n",
    "Let's see here the price of a listing per region and per house_type"
   ]
  },
  {
   "cell_type": "code",
   "execution_count": 27,
   "metadata": {},
   "outputs": [
    {
     "data": {
      "text/plain": [
       "<matplotlib.axes._subplots.AxesSubplot at 0x2da8adc6448>"
      ]
     },
     "execution_count": 27,
     "metadata": {},
     "output_type": "execute_result"
    },
    {
     "data": {
      "image/png": "[encoded data removed]",
      "text/plain": [
       "<Figure size 432x288 with 1 Axes>"
      ]
     },
     "metadata": {
      "needs_background": "light"
     },
     "output_type": "display_data"
    }
   ],
   "source": [
    "#Exploration of data\n",
    "sns.boxplot(x = new_listing['price'])"
   ]
  },
  {
   "cell_type": "markdown",
   "metadata": {},
   "source": [
    "From the boxplot, we can see many outliers but we checked some the listings with highest prices with the prices in official Airbnb website and it match. So our idea is to keep the outliers but we'll zoom in on the data where we have more listings and thus we can understand better the data."
   ]
  },
  {
   "cell_type": "code",
   "execution_count": 48,
   "metadata": {},
   "outputs": [
    {
     "data": {
      "text/plain": [
       "count    17633.000000\n",
       "mean       213.779901\n",
       "std        342.103675\n",
       "min          0.000000\n",
       "25%         95.000000\n",
       "50%        149.000000\n",
       "75%        236.000000\n",
       "max       9000.000000\n",
       "Name: price, dtype: float64"
      ]
     },
     "execution_count": 48,
     "metadata": {},
     "output_type": "execute_result"
    }
   ],
   "source": [
    "#Price statistics\n",
    "new_listing.price.describe()"
   ]
  },
  {
   "cell_type": "code",
   "execution_count": 49,
   "metadata": {},
   "outputs": [
    {
     "data": {
      "text/plain": [
       "Text(0, 0.5, 'Count of listings')"
      ]
     },
     "execution_count": 49,
     "metadata": {},
     "output_type": "execute_result"
    },
    {
     "data": {
      "image/png": "[encoded data removed]",
      "text/plain": [
       "<Figure size 864x360 with 2 Axes>"
      ]
     },
     "metadata": {
      "needs_background": "light"
     },
     "output_type": "display_data"
    }
   ],
   "source": [
    "# price plot\n",
    "plt.figure(figsize = [12, 5])\n",
    "\n",
    "# histogram on left: full data\n",
    "plt.subplot(1, 2, 1)\n",
    "bin_edges = np.arange(0, new_listing['price'].max()+1000, 500)\n",
    "plt.hist(data = new_listing, x = 'price', bins = bin_edges)\n",
    "plt.xlabel(\"Price\")\n",
    "plt.ylabel(\"Count of listings\")\n",
    "# histogram on right: focus in on bulk of data < 500\n",
    "plt.subplot(1, 2, 2)\n",
    "bin_edges = np.arange(0, 500+50, 50)\n",
    "plt.hist(data = new_listing, x = 'price', bins = bin_edges)\n",
    "plt.xlabel(\"Price\")\n",
    "plt.ylabel(\"Count of listings\")\n"
   ]
  },
  {
   "cell_type": "markdown",
   "metadata": {},
   "source": [
    "### Price per property type"
   ]
  },
  {
   "cell_type": "code",
   "execution_count": 37,
   "metadata": {},
   "outputs": [
    {
     "data": {
      "text/html": [
       "<div>\n",
       "<style scoped>\n",
       "    .dataframe tbody tr th:only-of-type {\n",
       "        vertical-align: middle;\n",
       "    }\n",
       "\n",
       "    .dataframe tbody tr th {\n",
       "        vertical-align: top;\n",
       "    }\n",
       "\n",
       "    .dataframe thead th {\n",
       "        text-align: right;\n",
       "    }\n",
       "</style>\n",
       "<table border=\"1\" class=\"dataframe\">\n",
       "  <thead>\n",
       "    <tr style=\"text-align: right;\">\n",
       "      <th></th>\n",
       "      <th>property_type</th>\n",
       "      <th>price</th>\n",
       "    </tr>\n",
       "  </thead>\n",
       "  <tbody>\n",
       "    <tr>\n",
       "      <th>37</th>\n",
       "      <td>Villa</td>\n",
       "      <td>206.0</td>\n",
       "    </tr>\n",
       "    <tr>\n",
       "      <th>5</th>\n",
       "      <td>Boutique hotel</td>\n",
       "      <td>198.5</td>\n",
       "    </tr>\n",
       "    <tr>\n",
       "      <th>15</th>\n",
       "      <td>Cottage</td>\n",
       "      <td>170.0</td>\n",
       "    </tr>\n",
       "    <tr>\n",
       "      <th>13</th>\n",
       "      <td>Chalet</td>\n",
       "      <td>164.5</td>\n",
       "    </tr>\n",
       "    <tr>\n",
       "      <th>24</th>\n",
       "      <td>House</td>\n",
       "      <td>150.0</td>\n",
       "    </tr>\n",
       "    <tr>\n",
       "      <th>35</th>\n",
       "      <td>Townhouse</td>\n",
       "      <td>119.5</td>\n",
       "    </tr>\n",
       "    <tr>\n",
       "      <th>1</th>\n",
       "      <td>Apartment</td>\n",
       "      <td>90.0</td>\n",
       "    </tr>\n",
       "    <tr>\n",
       "      <th>3</th>\n",
       "      <td>Bed and breakfast</td>\n",
       "      <td>85.0</td>\n",
       "    </tr>\n",
       "    <tr>\n",
       "      <th>14</th>\n",
       "      <td>Condominium</td>\n",
       "      <td>85.0</td>\n",
       "    </tr>\n",
       "    <tr>\n",
       "      <th>20</th>\n",
       "      <td>Guesthouse</td>\n",
       "      <td>85.0</td>\n",
       "    </tr>\n",
       "  </tbody>\n",
       "</table>\n",
       "</div>"
      ],
      "text/plain": [
       "        property_type  price\n",
       "37              Villa  206.0\n",
       "5      Boutique hotel  198.5\n",
       "15            Cottage  170.0\n",
       "13             Chalet  164.5\n",
       "24              House  150.0\n",
       "35          Townhouse  119.5\n",
       "1           Apartment   90.0\n",
       "3   Bed and breakfast   85.0\n",
       "14        Condominium   85.0\n",
       "20         Guesthouse   85.0"
      ]
     },
     "execution_count": 37,
     "metadata": {},
     "output_type": "execute_result"
    }
   ],
   "source": [
    "#property type median price\n",
    "grouped_property= new_listing.groupby(by=['property_type']).median()[['price']].reset_index(drop=False)\n",
    "grouped_property.loc[grouped_property['property_type'].isin(top_properties)].sort_values(by =['price'], ascending=False )\n"
   ]
  },
  {
   "cell_type": "code",
   "execution_count": 26,
   "metadata": {},
   "outputs": [
    {
     "data": {
      "text/plain": [
       "(array([0, 1, 2, 3, 4, 5, 6, 7, 8, 9]), <a list of 10 Text xticklabel objects>)"
      ]
     },
     "execution_count": 26,
     "metadata": {},
     "output_type": "execute_result"
    },
    {
     "data": {
      "image/png": "[encoded data removed]",
      "text/plain": [
       "<Figure size 864x432 with 1 Axes>"
      ]
     },
     "metadata": {
      "needs_background": "light"
     },
     "output_type": "display_data"
    }
   ],
   "source": [
    "plt.figure(figsize=(12,6))\n",
    "df= new_listing.loc[new_listing['property_type'].isin(top_properties)]\n",
    "g = sns.boxplot(data = df, x = 'property_type', y = 'price', order = top_properties)\n",
    "plt.ylim(-100, 1000)\n",
    "plt.xticks(rotation = 15)"
   ]
  },
  {
   "cell_type": "code",
   "execution_count": 60,
   "metadata": {},
   "outputs": [
    {
     "data": {
      "text/html": [
       "<div>\n",
       "<style scoped>\n",
       "    .dataframe tbody tr th:only-of-type {\n",
       "        vertical-align: middle;\n",
       "    }\n",
       "\n",
       "    .dataframe tbody tr th {\n",
       "        vertical-align: top;\n",
       "    }\n",
       "\n",
       "    .dataframe thead th {\n",
       "        text-align: right;\n",
       "    }\n",
       "</style>\n",
       "<table border=\"1\" class=\"dataframe\">\n",
       "  <thead>\n",
       "    <tr style=\"text-align: right;\">\n",
       "      <th></th>\n",
       "      <th>room_type</th>\n",
       "      <th>median_price</th>\n",
       "    </tr>\n",
       "  </thead>\n",
       "  <tbody>\n",
       "    <tr>\n",
       "      <th>0</th>\n",
       "      <td>Entire home/apt</td>\n",
       "      <td>153.0</td>\n",
       "    </tr>\n",
       "    <tr>\n",
       "      <th>1</th>\n",
       "      <td>Hotel room</td>\n",
       "      <td>170.0</td>\n",
       "    </tr>\n",
       "    <tr>\n",
       "      <th>2</th>\n",
       "      <td>Private room</td>\n",
       "      <td>51.0</td>\n",
       "    </tr>\n",
       "    <tr>\n",
       "      <th>3</th>\n",
       "      <td>Shared room</td>\n",
       "      <td>50.0</td>\n",
       "    </tr>\n",
       "  </tbody>\n",
       "</table>\n",
       "</div>"
      ],
      "text/plain": [
       "         room_type  median_price\n",
       "0  Entire home/apt         153.0\n",
       "1       Hotel room         170.0\n",
       "2     Private room          51.0\n",
       "3      Shared room          50.0"
      ]
     },
     "execution_count": 60,
     "metadata": {},
     "output_type": "execute_result"
    }
   ],
   "source": [
    "#room type median price\n",
    "new_listing.groupby(by=['room_type']).median()[['price']].reset_index(drop=False).rename(columns = {'price': 'median_price'})\n"
   ]
  },
  {
   "cell_type": "code",
   "execution_count": 28,
   "metadata": {},
   "outputs": [
    {
     "data": {
      "text/plain": [
       "(-100, 700)"
      ]
     },
     "execution_count": 28,
     "metadata": {},
     "output_type": "execute_result"
    },
    {
     "data": {
      "image/png": "[encoded data removed]",
      "text/plain": [
       "<Figure size 432x288 with 1 Axes>"
      ]
     },
     "metadata": {
      "needs_background": "light"
     },
     "output_type": "display_data"
    }
   ],
   "source": [
    "sns.boxplot(data = new_listing, x = 'room_type', y = 'price')\n",
    "plt.ylim(-100, 700)"
   ]
  },
  {
   "cell_type": "markdown",
   "metadata": {},
   "source": [
    "For private rooms, we are particularly interested in the price offered in Palma."
   ]
  },
  {
   "cell_type": "code",
   "execution_count": 66,
   "metadata": {},
   "outputs": [
    {
     "data": {
      "text/html": [
       "<div>\n",
       "<style scoped>\n",
       "    .dataframe tbody tr th:only-of-type {\n",
       "        vertical-align: middle;\n",
       "    }\n",
       "\n",
       "    .dataframe tbody tr th {\n",
       "        vertical-align: top;\n",
       "    }\n",
       "\n",
       "    .dataframe thead th {\n",
       "        text-align: right;\n",
       "    }\n",
       "</style>\n",
       "<table border=\"1\" class=\"dataframe\">\n",
       "  <thead>\n",
       "    <tr style=\"text-align: right;\">\n",
       "      <th></th>\n",
       "      <th>room_type</th>\n",
       "      <th>neighbourhood_cleansed</th>\n",
       "      <th>price</th>\n",
       "    </tr>\n",
       "  </thead>\n",
       "  <tbody>\n",
       "    <tr>\n",
       "      <th>68</th>\n",
       "      <td>Hotel room</td>\n",
       "      <td>Palma de Mallorca</td>\n",
       "      <td>144.0</td>\n",
       "    </tr>\n",
       "    <tr>\n",
       "      <th>33</th>\n",
       "      <td>Entire home/apt</td>\n",
       "      <td>Palma de Mallorca</td>\n",
       "      <td>130.0</td>\n",
       "    </tr>\n",
       "    <tr>\n",
       "      <th>110</th>\n",
       "      <td>Private room</td>\n",
       "      <td>Palma de Mallorca</td>\n",
       "      <td>45.0</td>\n",
       "    </tr>\n",
       "    <tr>\n",
       "      <th>133</th>\n",
       "      <td>Shared room</td>\n",
       "      <td>Palma de Mallorca</td>\n",
       "      <td>39.5</td>\n",
       "    </tr>\n",
       "  </tbody>\n",
       "</table>\n",
       "</div>"
      ],
      "text/plain": [
       "           room_type neighbourhood_cleansed  price\n",
       "68        Hotel room      Palma de Mallorca  144.0\n",
       "33   Entire home/apt      Palma de Mallorca  130.0\n",
       "110     Private room      Palma de Mallorca   45.0\n",
       "133      Shared room      Palma de Mallorca   39.5"
      ]
     },
     "execution_count": 66,
     "metadata": {},
     "output_type": "execute_result"
    }
   ],
   "source": [
    "grouped_room= new_listing.groupby(by=['room_type', 'neighbourhood_cleansed']).median()[['price']].reset_index(drop=False)\n",
    "grouped2 = grouped_room.loc[(grouped_room['neighbourhood_cleansed'] == 'Palma de Mallorca') ]\n",
    "grouped2.sort_values(by= ['price'], ascending=False)"
   ]
  },
  {
   "cell_type": "markdown",
   "metadata": {},
   "source": [
    "### Price per region"
   ]
  },
  {
   "cell_type": "code",
   "execution_count": 46,
   "metadata": {},
   "outputs": [
    {
     "data": {
      "text/plain": [
       "<seaborn.axisgrid.FacetGrid at 0x2725b5e2708>"
      ]
     },
     "execution_count": 46,
     "metadata": {},
     "output_type": "execute_result"
    },
    {
     "data": {
      "image/png": "[encoded data removed]",
      "text/plain": [
       "<Figure size 1080x432 with 10 Axes>"
      ]
     },
     "metadata": {
      "needs_background": "light"
     },
     "output_type": "display_data"
    }
   ],
   "source": [
    "bin_edges = np.arange(0, 500+50, 50)\n",
    "df= new_listing.loc[new_listing['neighbourhood_cleansed'].isin(top_regions)]\n",
    "g = sns.FacetGrid(data = df, col = 'neighbourhood_cleansed', col_wrap = 5, col_order = top_regions)\n",
    "g.map(plt.hist, \"price\", bins = bin_edges)\n",
    "g.set_titles('{col_name}')\n",
    "g.set_ylabels('count')"
   ]
  },
  {
   "cell_type": "code",
   "execution_count": 12,
   "metadata": {},
   "outputs": [
    {
     "data": {
      "text/html": [
       "<div>\n",
       "<style scoped>\n",
       "    .dataframe tbody tr th:only-of-type {\n",
       "        vertical-align: middle;\n",
       "    }\n",
       "\n",
       "    .dataframe tbody tr th {\n",
       "        vertical-align: top;\n",
       "    }\n",
       "\n",
       "    .dataframe thead th {\n",
       "        text-align: right;\n",
       "    }\n",
       "</style>\n",
       "<table border=\"1\" class=\"dataframe\">\n",
       "  <thead>\n",
       "    <tr style=\"text-align: right;\">\n",
       "      <th></th>\n",
       "      <th>region</th>\n",
       "      <th>median_price</th>\n",
       "    </tr>\n",
       "  </thead>\n",
       "  <tbody>\n",
       "    <tr>\n",
       "      <th>16</th>\n",
       "      <td>Deyá</td>\n",
       "      <td>237.5</td>\n",
       "    </tr>\n",
       "    <tr>\n",
       "      <th>18</th>\n",
       "      <td>Esporles</td>\n",
       "      <td>208.0</td>\n",
       "    </tr>\n",
       "    <tr>\n",
       "      <th>3</th>\n",
       "      <td>Andratx</td>\n",
       "      <td>200.0</td>\n",
       "    </tr>\n",
       "    <tr>\n",
       "      <th>30</th>\n",
       "      <td>Marratxí</td>\n",
       "      <td>195.0</td>\n",
       "    </tr>\n",
       "    <tr>\n",
       "      <th>8</th>\n",
       "      <td>Bunyola</td>\n",
       "      <td>190.0</td>\n",
       "    </tr>\n",
       "    <tr>\n",
       "      <th>10</th>\n",
       "      <td>Calvià</td>\n",
       "      <td>183.0</td>\n",
       "    </tr>\n",
       "    <tr>\n",
       "      <th>39</th>\n",
       "      <td>Sant Joan</td>\n",
       "      <td>183.0</td>\n",
       "    </tr>\n",
       "    <tr>\n",
       "      <th>34</th>\n",
       "      <td>Petra</td>\n",
       "      <td>180.0</td>\n",
       "    </tr>\n",
       "    <tr>\n",
       "      <th>17</th>\n",
       "      <td>Escorca</td>\n",
       "      <td>180.0</td>\n",
       "    </tr>\n",
       "    <tr>\n",
       "      <th>45</th>\n",
       "      <td>Selva</td>\n",
       "      <td>178.5</td>\n",
       "    </tr>\n",
       "  </tbody>\n",
       "</table>\n",
       "</div>"
      ],
      "text/plain": [
       "       region  median_price\n",
       "16       Deyá         237.5\n",
       "18   Esporles         208.0\n",
       "3     Andratx         200.0\n",
       "30   Marratxí         195.0\n",
       "8     Bunyola         190.0\n",
       "10     Calvià         183.0\n",
       "39  Sant Joan         183.0\n",
       "34      Petra         180.0\n",
       "17    Escorca         180.0\n",
       "45      Selva         178.5"
      ]
     },
     "execution_count": 12,
     "metadata": {},
     "output_type": "execute_result"
    }
   ],
   "source": [
    "#median price per region\n",
    "grouped_region= new_listing.groupby(by=['neighbourhood_cleansed']).median()[['price']].reset_index(drop=False).sort_values(by =['price'], ascending=False)\n",
    "grouped_region.rename(columns = {'neighbourhood_cleansed':'region', 'price':'median_price'})[:10]\n"
   ]
  },
  {
   "cell_type": "markdown",
   "metadata": {},
   "source": [
    "### prices, region, property"
   ]
  },
  {
   "cell_type": "code",
   "execution_count": null,
   "metadata": {
    "scrolled": true
   },
   "outputs": [],
   "source": [
    "grouped_neighbourhood= new_listing.groupby(by=['property_type', 'neighbourhood_cleansed']).mean()[['price']].reset_index(drop=False)\n",
    "grouped = grouped_neighbourhood.loc[grouped_neighbourhood['neighbourhood_cleansed'].isin(top_regions) & grouped_neighbourhood['property_type'].isin(top_properties[:3]) ]\n",
    "grouped.sort_values(by= ['property_type', 'price'], ascending=False).head(5)"
   ]
  },
  {
   "cell_type": "markdown",
   "metadata": {},
   "source": [
    "### Price along time"
   ]
  },
  {
   "cell_type": "markdown",
   "metadata": {},
   "source": [
    "To get an idea about the prices along the time, we'll use calendar dataset"
   ]
  },
  {
   "cell_type": "code",
   "execution_count": 39,
   "metadata": {},
   "outputs": [
    {
     "data": {
      "text/html": [
       "<div>\n",
       "<style scoped>\n",
       "    .dataframe tbody tr th:only-of-type {\n",
       "        vertical-align: middle;\n",
       "    }\n",
       "\n",
       "    .dataframe tbody tr th {\n",
       "        vertical-align: top;\n",
       "    }\n",
       "\n",
       "    .dataframe thead th {\n",
       "        text-align: right;\n",
       "    }\n",
       "</style>\n",
       "<table border=\"1\" class=\"dataframe\">\n",
       "  <thead>\n",
       "    <tr style=\"text-align: right;\">\n",
       "      <th></th>\n",
       "      <th>listing_id</th>\n",
       "      <th>date</th>\n",
       "      <th>available</th>\n",
       "      <th>price</th>\n",
       "      <th>adjusted_price</th>\n",
       "      <th>minimum_nights</th>\n",
       "      <th>maximum_nights</th>\n",
       "    </tr>\n",
       "  </thead>\n",
       "  <tbody>\n",
       "    <tr>\n",
       "      <th>0</th>\n",
       "      <td>441723</td>\n",
       "      <td>2020-04-24</td>\n",
       "      <td>f</td>\n",
       "      <td>69.0</td>\n",
       "      <td>$69.00</td>\n",
       "      <td>3.0</td>\n",
       "      <td>21.0</td>\n",
       "    </tr>\n",
       "    <tr>\n",
       "      <th>1</th>\n",
       "      <td>11547</td>\n",
       "      <td>2020-04-24</td>\n",
       "      <td>f</td>\n",
       "      <td>75.0</td>\n",
       "      <td>$75.00</td>\n",
       "      <td>6.0</td>\n",
       "      <td>1125.0</td>\n",
       "    </tr>\n",
       "    <tr>\n",
       "      <th>2</th>\n",
       "      <td>11547</td>\n",
       "      <td>2020-04-25</td>\n",
       "      <td>t</td>\n",
       "      <td>75.0</td>\n",
       "      <td>$75.00</td>\n",
       "      <td>6.0</td>\n",
       "      <td>1125.0</td>\n",
       "    </tr>\n",
       "    <tr>\n",
       "      <th>3</th>\n",
       "      <td>11547</td>\n",
       "      <td>2020-04-26</td>\n",
       "      <td>t</td>\n",
       "      <td>75.0</td>\n",
       "      <td>$75.00</td>\n",
       "      <td>6.0</td>\n",
       "      <td>1125.0</td>\n",
       "    </tr>\n",
       "    <tr>\n",
       "      <th>4</th>\n",
       "      <td>11547</td>\n",
       "      <td>2020-04-27</td>\n",
       "      <td>t</td>\n",
       "      <td>75.0</td>\n",
       "      <td>$75.00</td>\n",
       "      <td>6.0</td>\n",
       "      <td>1125.0</td>\n",
       "    </tr>\n",
       "  </tbody>\n",
       "</table>\n",
       "</div>"
      ],
      "text/plain": [
       "   listing_id       date available  price adjusted_price  minimum_nights  \\\n",
       "0      441723 2020-04-24         f   69.0         $69.00             3.0   \n",
       "1       11547 2020-04-24         f   75.0         $75.00             6.0   \n",
       "2       11547 2020-04-25         t   75.0         $75.00             6.0   \n",
       "3       11547 2020-04-26         t   75.0         $75.00             6.0   \n",
       "4       11547 2020-04-27         t   75.0         $75.00             6.0   \n",
       "\n",
       "   maximum_nights  \n",
       "0            21.0  \n",
       "1          1125.0  \n",
       "2          1125.0  \n",
       "3          1125.0  \n",
       "4          1125.0  "
      ]
     },
     "execution_count": 39,
     "metadata": {},
     "output_type": "execute_result"
    }
   ],
   "source": [
    "calendar.head()"
   ]
  },
  {
   "cell_type": "code",
   "execution_count": 40,
   "metadata": {},
   "outputs": [
    {
     "data": {
      "text/plain": [
       "<matplotlib.axes._subplots.AxesSubplot at 0x1dbb0ccec88>"
      ]
     },
     "execution_count": 40,
     "metadata": {},
     "output_type": "execute_result"
    },
    {
     "data": {
      "image/png": "[encoded data removed]",
      "text/plain": [
       "<Figure size 432x288 with 1 Axes>"
      ]
     },
     "metadata": {
      "needs_background": "light"
     },
     "output_type": "display_data"
    }
   ],
   "source": [
    "#Exploration of data: checking for outliers\n",
    "sns.boxplot(x = calendar['price'])"
   ]
  },
  {
   "cell_type": "code",
   "execution_count": 41,
   "metadata": {},
   "outputs": [
    {
     "data": {
      "text/plain": [
       "count    6.436045e+06\n",
       "mean     2.665629e+02\n",
       "std      6.428054e+02\n",
       "min      0.000000e+00\n",
       "25%      1.040000e+02\n",
       "50%      1.690000e+02\n",
       "75%      2.750000e+02\n",
       "max      4.999900e+04\n",
       "Name: price, dtype: float64"
      ]
     },
     "execution_count": 41,
     "metadata": {},
     "output_type": "execute_result"
    }
   ],
   "source": [
    "calendar.price.describe()"
   ]
  },
  {
   "cell_type": "markdown",
   "metadata": {},
   "source": [
    "We'll take just the prices where the listings are available"
   ]
  },
  {
   "cell_type": "code",
   "execution_count": 42,
   "metadata": {},
   "outputs": [
    {
     "data": {
      "text/plain": [
       "count    3.849703e+06\n",
       "mean     2.394674e+02\n",
       "std      4.989189e+02\n",
       "min      8.000000e+00\n",
       "25%      1.000000e+02\n",
       "50%      1.600000e+02\n",
       "75%      2.600000e+02\n",
       "max      4.999900e+04\n",
       "Name: price, dtype: float64"
      ]
     },
     "execution_count": 42,
     "metadata": {},
     "output_type": "execute_result"
    }
   ],
   "source": [
    "calendar_available= calendar.loc[(calendar['available'] == \"t\")]\n",
    "calendar_available['price'].describe()"
   ]
  },
  {
   "cell_type": "markdown",
   "metadata": {},
   "source": [
    "The maximum price is too high to be true, a quick check to Airbnb site proves that as well. Maximum price could reach 10000 euros but no more. Thus, we'll remove the outliers as part of <b>data preparation</b>."
   ]
  },
  {
   "cell_type": "code",
   "execution_count": 44,
   "metadata": {},
   "outputs": [
    {
     "data": {
      "text/plain": [
       "count    3.587281e+06\n",
       "mean     1.770358e+02\n",
       "std      1.042650e+02\n",
       "min      8.000000e+00\n",
       "25%      1.000000e+02\n",
       "50%      1.500000e+02\n",
       "75%      2.310000e+02\n",
       "max      5.000000e+02\n",
       "Name: price, dtype: float64"
      ]
     },
     "execution_count": 44,
     "metadata": {},
     "output_type": "execute_result"
    }
   ],
   "source": [
    "# Applying IQR rule for removing outliers\n",
    "Q1 = calendar_available['price'].quantile(0.25)\n",
    "Q3 = calendar_available['price'].quantile(0.75)\n",
    "IQR = Q3 - Q1\n",
    "calendar_wo = calendar_available[calendar_available['price'].between(Q1 - 1.5 * IQR, Q3 + 1.5 * IQR)] \n",
    "calendar_wo['price'].describe()"
   ]
  },
  {
   "cell_type": "code",
   "execution_count": 45,
   "metadata": {},
   "outputs": [
    {
     "data": {
      "text/plain": [
       "(array([737546., 737607., 737669., 737730., 737791., 737850., 737911.]),\n",
       " <a list of 7 Text xticklabel objects>)"
      ]
     },
     "execution_count": 45,
     "metadata": {},
     "output_type": "execute_result"
    },
    {
     "data": {
      "image/png": "[encoded data removed]",
      "text/plain": [
       "<Figure size 432x288 with 1 Axes>"
      ]
     },
     "metadata": {
      "needs_background": "light"
     },
     "output_type": "display_data"
    }
   ],
   "source": [
    "#variation of mean price \n",
    "sns.lineplot(data = calendar_wo, x= 'date', y='price', estimator='mean')\n",
    "plt.xticks(rotation = 15)"
   ]
  },
  {
   "cell_type": "code",
   "execution_count": 46,
   "metadata": {},
   "outputs": [
    {
     "data": {
      "text/plain": [
       "Text(0.5, 0, 'Month (Jan=1, Dec=12)')"
      ]
     },
     "execution_count": 46,
     "metadata": {},
     "output_type": "execute_result"
    },
    {
     "data": {
      "image/png": "[encoded data removed]",
      "text/plain": [
       "<Figure size 432x288 with 1 Axes>"
      ]
     },
     "metadata": {
      "needs_background": "light"
     },
     "output_type": "display_data"
    }
   ],
   "source": [
    "#variation of mean price per month\n",
    "sns.lineplot(data = calendar_wo, x= calendar_wo.date.dt.month, y='price', estimator='mean')\n",
    "plt.xlabel(\"Month (Jan=1, Dec=12)\")"
   ]
  },
  {
   "cell_type": "code",
   "execution_count": 47,
   "metadata": {},
   "outputs": [
    {
     "data": {
      "text/plain": [
       "Text(0.5, 0, 'Day (Mon=1, Sun=6)')"
      ]
     },
     "execution_count": 47,
     "metadata": {},
     "output_type": "execute_result"
    },
    {
     "data": {
      "image/png": "[encoded data removed]",
      "text/plain": [
       "<Figure size 432x288 with 1 Axes>"
      ]
     },
     "metadata": {
      "needs_background": "light"
     },
     "output_type": "display_data"
    }
   ],
   "source": [
    "#variation of mean price per week day\n",
    "sns.lineplot(data = calendar_wo, x= calendar_wo.date.dt.dayofweek, y='price', estimator='mean')\n",
    "plt.xlabel(\"Day (Mon=1, Sun=6)\")"
   ]
  },
  {
   "cell_type": "markdown",
   "metadata": {},
   "source": [
    "## What are the reviews and ratings of previous travelers?\n",
    "Now, let's see what the reviewers say and what they appreciate most"
   ]
  },
  {
   "cell_type": "code",
   "execution_count": 5,
   "metadata": {},
   "outputs": [
    {
     "data": {
      "text/html": [
       "<div>\n",
       "<style scoped>\n",
       "    .dataframe tbody tr th:only-of-type {\n",
       "        vertical-align: middle;\n",
       "    }\n",
       "\n",
       "    .dataframe tbody tr th {\n",
       "        vertical-align: top;\n",
       "    }\n",
       "\n",
       "    .dataframe thead th {\n",
       "        text-align: right;\n",
       "    }\n",
       "</style>\n",
       "<table border=\"1\" class=\"dataframe\">\n",
       "  <thead>\n",
       "    <tr style=\"text-align: right;\">\n",
       "      <th></th>\n",
       "      <th>id</th>\n",
       "      <th>neighbourhood_cleansed</th>\n",
       "      <th>property_type</th>\n",
       "      <th>room_type</th>\n",
       "      <th>number_of_reviews</th>\n",
       "      <th>number_of_reviews_ltm</th>\n",
       "      <th>first_review</th>\n",
       "      <th>last_review</th>\n",
       "      <th>review_scores_rating</th>\n",
       "      <th>review_scores_accuracy</th>\n",
       "      <th>review_scores_cleanliness</th>\n",
       "      <th>review_scores_checkin</th>\n",
       "      <th>review_scores_communication</th>\n",
       "      <th>review_scores_location</th>\n",
       "      <th>review_scores_value</th>\n",
       "    </tr>\n",
       "  </thead>\n",
       "  <tbody>\n",
       "    <tr>\n",
       "      <th>0</th>\n",
       "      <td>11547</td>\n",
       "      <td>Calvià</td>\n",
       "      <td>Apartment</td>\n",
       "      <td>Entire home/apt</td>\n",
       "      <td>100</td>\n",
       "      <td>13</td>\n",
       "      <td>2011-08-23</td>\n",
       "      <td>2019-10-20</td>\n",
       "      <td>96.0</td>\n",
       "      <td>10.0</td>\n",
       "      <td>9.0</td>\n",
       "      <td>10.0</td>\n",
       "      <td>10.0</td>\n",
       "      <td>10.0</td>\n",
       "      <td>10.0</td>\n",
       "    </tr>\n",
       "    <tr>\n",
       "      <th>1</th>\n",
       "      <td>69998</td>\n",
       "      <td>Palma de Mallorca</td>\n",
       "      <td>Loft</td>\n",
       "      <td>Entire home/apt</td>\n",
       "      <td>161</td>\n",
       "      <td>5</td>\n",
       "      <td>2012-01-24</td>\n",
       "      <td>2020-03-15</td>\n",
       "      <td>98.0</td>\n",
       "      <td>10.0</td>\n",
       "      <td>10.0</td>\n",
       "      <td>10.0</td>\n",
       "      <td>10.0</td>\n",
       "      <td>10.0</td>\n",
       "      <td>10.0</td>\n",
       "    </tr>\n",
       "    <tr>\n",
       "      <th>2</th>\n",
       "      <td>100831</td>\n",
       "      <td>Santa Margalida</td>\n",
       "      <td>House</td>\n",
       "      <td>Entire home/apt</td>\n",
       "      <td>110</td>\n",
       "      <td>24</td>\n",
       "      <td>2012-08-26</td>\n",
       "      <td>2020-01-25</td>\n",
       "      <td>100.0</td>\n",
       "      <td>10.0</td>\n",
       "      <td>10.0</td>\n",
       "      <td>10.0</td>\n",
       "      <td>10.0</td>\n",
       "      <td>10.0</td>\n",
       "      <td>10.0</td>\n",
       "    </tr>\n",
       "    <tr>\n",
       "      <th>3</th>\n",
       "      <td>105891</td>\n",
       "      <td>Maria de la Salut</td>\n",
       "      <td>Townhouse</td>\n",
       "      <td>Entire home/apt</td>\n",
       "      <td>14</td>\n",
       "      <td>2</td>\n",
       "      <td>2012-06-19</td>\n",
       "      <td>2019-09-03</td>\n",
       "      <td>97.0</td>\n",
       "      <td>10.0</td>\n",
       "      <td>10.0</td>\n",
       "      <td>10.0</td>\n",
       "      <td>10.0</td>\n",
       "      <td>9.0</td>\n",
       "      <td>10.0</td>\n",
       "    </tr>\n",
       "    <tr>\n",
       "      <th>4</th>\n",
       "      <td>130669</td>\n",
       "      <td>Palma de Mallorca</td>\n",
       "      <td>Apartment</td>\n",
       "      <td>Private room</td>\n",
       "      <td>0</td>\n",
       "      <td>0</td>\n",
       "      <td>NaN</td>\n",
       "      <td>NaN</td>\n",
       "      <td>NaN</td>\n",
       "      <td>NaN</td>\n",
       "      <td>NaN</td>\n",
       "      <td>NaN</td>\n",
       "      <td>NaN</td>\n",
       "      <td>NaN</td>\n",
       "      <td>NaN</td>\n",
       "    </tr>\n",
       "  </tbody>\n",
       "</table>\n",
       "</div>"
      ],
      "text/plain": [
       "       id neighbourhood_cleansed property_type        room_type  \\\n",
       "0   11547                 Calvià     Apartment  Entire home/apt   \n",
       "1   69998      Palma de Mallorca          Loft  Entire home/apt   \n",
       "2  100831        Santa Margalida         House  Entire home/apt   \n",
       "3  105891      Maria de la Salut     Townhouse  Entire home/apt   \n",
       "4  130669      Palma de Mallorca     Apartment     Private room   \n",
       "\n",
       "   number_of_reviews  number_of_reviews_ltm first_review last_review  \\\n",
       "0                100                     13   2011-08-23  2019-10-20   \n",
       "1                161                      5   2012-01-24  2020-03-15   \n",
       "2                110                     24   2012-08-26  2020-01-25   \n",
       "3                 14                      2   2012-06-19  2019-09-03   \n",
       "4                  0                      0          NaN         NaN   \n",
       "\n",
       "   review_scores_rating  review_scores_accuracy  review_scores_cleanliness  \\\n",
       "0                  96.0                    10.0                        9.0   \n",
       "1                  98.0                    10.0                       10.0   \n",
       "2                 100.0                    10.0                       10.0   \n",
       "3                  97.0                    10.0                       10.0   \n",
       "4                   NaN                     NaN                        NaN   \n",
       "\n",
       "   review_scores_checkin  review_scores_communication  review_scores_location  \\\n",
       "0                   10.0                         10.0                    10.0   \n",
       "1                   10.0                         10.0                    10.0   \n",
       "2                   10.0                         10.0                    10.0   \n",
       "3                   10.0                         10.0                     9.0   \n",
       "4                    NaN                          NaN                     NaN   \n",
       "\n",
       "   review_scores_value  \n",
       "0                 10.0  \n",
       "1                 10.0  \n",
       "2                 10.0  \n",
       "3                 10.0  \n",
       "4                  NaN  "
      ]
     },
     "execution_count": 5,
     "metadata": {},
     "output_type": "execute_result"
    }
   ],
   "source": [
    "reviews = new_listing [['id',\n",
    " 'neighbourhood_cleansed',\n",
    " 'property_type',\n",
    " 'room_type',\n",
    " 'number_of_reviews',\n",
    " 'number_of_reviews_ltm',\n",
    " 'first_review',\n",
    " 'last_review',\n",
    " 'review_scores_rating',\n",
    " 'review_scores_accuracy',\n",
    " 'review_scores_cleanliness',\n",
    " 'review_scores_checkin',\n",
    " 'review_scores_communication',\n",
    " 'review_scores_location',\n",
    " 'review_scores_value']]\n",
    "\n",
    "reviews.head()"
   ]
  },
  {
   "cell_type": "markdown",
   "metadata": {},
   "source": [
    "### Overall rating"
   ]
  },
  {
   "cell_type": "code",
   "execution_count": 6,
   "metadata": {},
   "outputs": [
    {
     "data": {
      "text/plain": [
       "count    10561.000000\n",
       "mean        93.250544\n",
       "std          9.212100\n",
       "min         20.000000\n",
       "25%         90.000000\n",
       "50%         96.000000\n",
       "75%        100.000000\n",
       "max        100.000000\n",
       "Name: review_scores_rating, dtype: float64"
      ]
     },
     "execution_count": 6,
     "metadata": {},
     "output_type": "execute_result"
    }
   ],
   "source": [
    "reviews.review_scores_rating.describe()"
   ]
  },
  {
   "cell_type": "code",
   "execution_count": 7,
   "metadata": {},
   "outputs": [
    {
     "data": {
      "text/plain": [
       "<matplotlib.axes._subplots.AxesSubplot at 0x1dbb16f0508>"
      ]
     },
     "execution_count": 7,
     "metadata": {},
     "output_type": "execute_result"
    },
    {
     "data": {
      "image/png": "[encoded data removed]",
      "text/plain": [
       "<Figure size 432x288 with 1 Axes>"
      ]
     },
     "metadata": {
      "needs_background": "light"
     },
     "output_type": "display_data"
    }
   ],
   "source": [
    "sns.boxplot(data = reviews, y = 'review_scores_rating')"
   ]
  },
  {
   "cell_type": "markdown",
   "metadata": {},
   "source": [
    "In order to understand the reviews depending on room_type, property_type and region, we'll use the following funtion for getting the mean ratings"
   ]
  },
  {
   "cell_type": "code",
   "execution_count": 12,
   "metadata": {},
   "outputs": [],
   "source": [
    "def mean_rating (df, type_column):\n",
    "    '''\n",
    "    Returns a dataframe of mean ratings grouped by column_type.\n",
    "\n",
    "            Parameters:\n",
    "                    df - Panda dataframe that we'll retrieve data from it\n",
    "                    column_type- The column name by which the ratings are grouped\n",
    "\n",
    "            Returns:\n",
    "                    df_rating- Panda Dataframe of mean ratings\n",
    "    '''\n",
    "     \n",
    "\n",
    "    df_rating = pd.DataFrame()\n",
    "    df_rating['overall rating'] = round(df.groupby(type_column)['review_scores_rating'].mean()/10, 2)\n",
    "    df_rating['accuracy'] = round(df.groupby(type_column)['review_scores_accuracy'].mean(), 2)\n",
    "    df_rating['cleanliness'] = round(df.groupby(type_column)['review_scores_cleanliness'].mean(), 2)\n",
    "    df_rating['check-in'] = round(df.groupby(type_column)['review_scores_checkin'].mean(), 2)\n",
    "    df_rating['communication'] = round(df.groupby(type_column)['review_scores_communication'].mean(), 2)\n",
    "    df_rating['location'] = round(df.groupby(type_column)['review_scores_location'].mean(), 2)\n",
    "    df_rating['value'] = round(df.groupby(type_column)['review_scores_value'].mean(), 2)\n",
    "\n",
    "    df_rating.sort_values('overall rating', ascending = False)\n",
    "\n",
    "    return df_rating"
   ]
  },
  {
   "cell_type": "markdown",
   "metadata": {},
   "source": [
    "### Ratings per room type"
   ]
  },
  {
   "cell_type": "code",
   "execution_count": 13,
   "metadata": {},
   "outputs": [
    {
     "data": {
      "text/html": [
       "<div>\n",
       "<style scoped>\n",
       "    .dataframe tbody tr th:only-of-type {\n",
       "        vertical-align: middle;\n",
       "    }\n",
       "\n",
       "    .dataframe tbody tr th {\n",
       "        vertical-align: top;\n",
       "    }\n",
       "\n",
       "    .dataframe thead th {\n",
       "        text-align: right;\n",
       "    }\n",
       "</style>\n",
       "<table border=\"1\" class=\"dataframe\">\n",
       "  <thead>\n",
       "    <tr style=\"text-align: right;\">\n",
       "      <th></th>\n",
       "      <th>overall rating</th>\n",
       "      <th>accuracy</th>\n",
       "      <th>cleanliness</th>\n",
       "      <th>check-in</th>\n",
       "      <th>communication</th>\n",
       "      <th>location</th>\n",
       "      <th>value</th>\n",
       "    </tr>\n",
       "    <tr>\n",
       "      <th>room_type</th>\n",
       "      <th></th>\n",
       "      <th></th>\n",
       "      <th></th>\n",
       "      <th></th>\n",
       "      <th></th>\n",
       "      <th></th>\n",
       "      <th></th>\n",
       "    </tr>\n",
       "  </thead>\n",
       "  <tbody>\n",
       "    <tr>\n",
       "      <th>Entire home/apt</th>\n",
       "      <td>9.34</td>\n",
       "      <td>9.53</td>\n",
       "      <td>9.42</td>\n",
       "      <td>9.67</td>\n",
       "      <td>9.63</td>\n",
       "      <td>9.46</td>\n",
       "      <td>9.17</td>\n",
       "    </tr>\n",
       "    <tr>\n",
       "      <th>Hotel room</th>\n",
       "      <td>9.26</td>\n",
       "      <td>9.31</td>\n",
       "      <td>9.46</td>\n",
       "      <td>9.57</td>\n",
       "      <td>9.55</td>\n",
       "      <td>9.51</td>\n",
       "      <td>9.16</td>\n",
       "    </tr>\n",
       "    <tr>\n",
       "      <th>Private room</th>\n",
       "      <td>9.25</td>\n",
       "      <td>9.51</td>\n",
       "      <td>9.33</td>\n",
       "      <td>9.66</td>\n",
       "      <td>9.58</td>\n",
       "      <td>9.45</td>\n",
       "      <td>9.21</td>\n",
       "    </tr>\n",
       "    <tr>\n",
       "      <th>Shared room</th>\n",
       "      <td>7.04</td>\n",
       "      <td>7.40</td>\n",
       "      <td>7.00</td>\n",
       "      <td>7.60</td>\n",
       "      <td>7.40</td>\n",
       "      <td>9.00</td>\n",
       "      <td>8.80</td>\n",
       "    </tr>\n",
       "  </tbody>\n",
       "</table>\n",
       "</div>"
      ],
      "text/plain": [
       "                 overall rating  accuracy  cleanliness  check-in  \\\n",
       "room_type                                                          \n",
       "Entire home/apt            9.34      9.53         9.42      9.67   \n",
       "Hotel room                 9.26      9.31         9.46      9.57   \n",
       "Private room               9.25      9.51         9.33      9.66   \n",
       "Shared room                7.04      7.40         7.00      7.60   \n",
       "\n",
       "                 communication  location  value  \n",
       "room_type                                        \n",
       "Entire home/apt           9.63      9.46   9.17  \n",
       "Hotel room                9.55      9.51   9.16  \n",
       "Private room              9.58      9.45   9.21  \n",
       "Shared room               7.40      9.00   8.80  "
      ]
     },
     "execution_count": 13,
     "metadata": {},
     "output_type": "execute_result"
    }
   ],
   "source": [
    "room_rating = mean_rating (reviews, 'room_type')\n",
    "room_rating"
   ]
  },
  {
   "cell_type": "code",
   "execution_count": 14,
   "metadata": {},
   "outputs": [
    {
     "data": {
      "text/plain": [
       "<matplotlib.axes._subplots.AxesSubplot at 0x1dbb0363e48>"
      ]
     },
     "execution_count": 14,
     "metadata": {},
     "output_type": "execute_result"
    },
    {
     "data": {
      "image/png": "[encoded data removed]",
      "text/plain": [
       "<Figure size 432x288 with 2 Axes>"
      ]
     },
     "metadata": {
      "needs_background": "light"
     },
     "output_type": "display_data"
    }
   ],
   "source": [
    "sns.heatmap(data = room_rating, annot = True, fmt = '.2f', cmap = 'viridis_r')"
   ]
  },
  {
   "cell_type": "markdown",
   "metadata": {},
   "source": [
    "### Property types ratings"
   ]
  },
  {
   "cell_type": "markdown",
   "metadata": {},
   "source": [
    "In here, we are mostly interested in ratings of the 10 most listed porperty types"
   ]
  },
  {
   "cell_type": "code",
   "execution_count": 25,
   "metadata": {},
   "outputs": [
    {
     "data": {
      "text/html": [
       "<div>\n",
       "<style scoped>\n",
       "    .dataframe tbody tr th:only-of-type {\n",
       "        vertical-align: middle;\n",
       "    }\n",
       "\n",
       "    .dataframe tbody tr th {\n",
       "        vertical-align: top;\n",
       "    }\n",
       "\n",
       "    .dataframe thead th {\n",
       "        text-align: right;\n",
       "    }\n",
       "</style>\n",
       "<table border=\"1\" class=\"dataframe\">\n",
       "  <thead>\n",
       "    <tr style=\"text-align: right;\">\n",
       "      <th></th>\n",
       "      <th>overall rating</th>\n",
       "      <th>accuracy</th>\n",
       "      <th>cleanliness</th>\n",
       "      <th>check-in</th>\n",
       "      <th>communication</th>\n",
       "      <th>location</th>\n",
       "      <th>value</th>\n",
       "    </tr>\n",
       "    <tr>\n",
       "      <th>property_type</th>\n",
       "      <th></th>\n",
       "      <th></th>\n",
       "      <th></th>\n",
       "      <th></th>\n",
       "      <th></th>\n",
       "      <th></th>\n",
       "      <th></th>\n",
       "    </tr>\n",
       "  </thead>\n",
       "  <tbody>\n",
       "    <tr>\n",
       "      <th>Apartment</th>\n",
       "      <td>9.16</td>\n",
       "      <td>9.45</td>\n",
       "      <td>9.29</td>\n",
       "      <td>9.62</td>\n",
       "      <td>9.59</td>\n",
       "      <td>9.56</td>\n",
       "      <td>9.06</td>\n",
       "    </tr>\n",
       "    <tr>\n",
       "      <th>Bed and breakfast</th>\n",
       "      <td>9.40</td>\n",
       "      <td>9.63</td>\n",
       "      <td>9.72</td>\n",
       "      <td>9.66</td>\n",
       "      <td>9.65</td>\n",
       "      <td>9.40</td>\n",
       "      <td>9.46</td>\n",
       "    </tr>\n",
       "    <tr>\n",
       "      <th>Boutique hotel</th>\n",
       "      <td>9.49</td>\n",
       "      <td>9.50</td>\n",
       "      <td>9.62</td>\n",
       "      <td>9.75</td>\n",
       "      <td>9.53</td>\n",
       "      <td>9.54</td>\n",
       "      <td>9.24</td>\n",
       "    </tr>\n",
       "    <tr>\n",
       "      <th>Chalet</th>\n",
       "      <td>9.45</td>\n",
       "      <td>9.55</td>\n",
       "      <td>9.48</td>\n",
       "      <td>9.73</td>\n",
       "      <td>9.67</td>\n",
       "      <td>9.46</td>\n",
       "      <td>9.26</td>\n",
       "    </tr>\n",
       "    <tr>\n",
       "      <th>Condominium</th>\n",
       "      <td>9.33</td>\n",
       "      <td>9.54</td>\n",
       "      <td>9.45</td>\n",
       "      <td>9.72</td>\n",
       "      <td>9.69</td>\n",
       "      <td>9.58</td>\n",
       "      <td>9.23</td>\n",
       "    </tr>\n",
       "    <tr>\n",
       "      <th>Cottage</th>\n",
       "      <td>9.57</td>\n",
       "      <td>9.68</td>\n",
       "      <td>9.61</td>\n",
       "      <td>9.78</td>\n",
       "      <td>9.79</td>\n",
       "      <td>9.50</td>\n",
       "      <td>9.41</td>\n",
       "    </tr>\n",
       "    <tr>\n",
       "      <th>Guesthouse</th>\n",
       "      <td>9.46</td>\n",
       "      <td>9.65</td>\n",
       "      <td>9.60</td>\n",
       "      <td>9.81</td>\n",
       "      <td>9.80</td>\n",
       "      <td>9.51</td>\n",
       "      <td>9.26</td>\n",
       "    </tr>\n",
       "    <tr>\n",
       "      <th>House</th>\n",
       "      <td>9.40</td>\n",
       "      <td>9.58</td>\n",
       "      <td>9.47</td>\n",
       "      <td>9.71</td>\n",
       "      <td>9.66</td>\n",
       "      <td>9.44</td>\n",
       "      <td>9.23</td>\n",
       "    </tr>\n",
       "    <tr>\n",
       "      <th>Townhouse</th>\n",
       "      <td>9.50</td>\n",
       "      <td>9.74</td>\n",
       "      <td>9.63</td>\n",
       "      <td>9.85</td>\n",
       "      <td>9.84</td>\n",
       "      <td>9.51</td>\n",
       "      <td>9.33</td>\n",
       "    </tr>\n",
       "    <tr>\n",
       "      <th>Villa</th>\n",
       "      <td>9.28</td>\n",
       "      <td>9.44</td>\n",
       "      <td>9.34</td>\n",
       "      <td>9.57</td>\n",
       "      <td>9.53</td>\n",
       "      <td>9.34</td>\n",
       "      <td>9.12</td>\n",
       "    </tr>\n",
       "  </tbody>\n",
       "</table>\n",
       "</div>"
      ],
      "text/plain": [
       "                   overall rating  accuracy  cleanliness  check-in  \\\n",
       "property_type                                                        \n",
       "Apartment                    9.16      9.45         9.29      9.62   \n",
       "Bed and breakfast            9.40      9.63         9.72      9.66   \n",
       "Boutique hotel               9.49      9.50         9.62      9.75   \n",
       "Chalet                       9.45      9.55         9.48      9.73   \n",
       "Condominium                  9.33      9.54         9.45      9.72   \n",
       "Cottage                      9.57      9.68         9.61      9.78   \n",
       "Guesthouse                   9.46      9.65         9.60      9.81   \n",
       "House                        9.40      9.58         9.47      9.71   \n",
       "Townhouse                    9.50      9.74         9.63      9.85   \n",
       "Villa                        9.28      9.44         9.34      9.57   \n",
       "\n",
       "                   communication  location  value  \n",
       "property_type                                      \n",
       "Apartment                   9.59      9.56   9.06  \n",
       "Bed and breakfast           9.65      9.40   9.46  \n",
       "Boutique hotel              9.53      9.54   9.24  \n",
       "Chalet                      9.67      9.46   9.26  \n",
       "Condominium                 9.69      9.58   9.23  \n",
       "Cottage                     9.79      9.50   9.41  \n",
       "Guesthouse                  9.80      9.51   9.26  \n",
       "House                       9.66      9.44   9.23  \n",
       "Townhouse                   9.84      9.51   9.33  \n",
       "Villa                       9.53      9.34   9.12  "
      ]
     },
     "execution_count": 25,
     "metadata": {},
     "output_type": "execute_result"
    }
   ],
   "source": [
    "reviews_pt= reviews.loc[reviews['property_type'].isin(top_properties)]\n",
    "\n",
    "property_rating = mean_rating(reviews_pt, 'property_type')\n",
    "property_rating"
   ]
  },
  {
   "cell_type": "code",
   "execution_count": 22,
   "metadata": {},
   "outputs": [
    {
     "data": {
      "text/plain": [
       "<matplotlib.axes._subplots.AxesSubplot at 0x1dbb04ff788>"
      ]
     },
     "execution_count": 22,
     "metadata": {},
     "output_type": "execute_result"
    },
    {
     "data": {
      "image/png": "[encoded data removed]",
      "text/plain": [
       "<Figure size 864x360 with 2 Axes>"
      ]
     },
     "metadata": {
      "needs_background": "light"
     },
     "output_type": "display_data"
    }
   ],
   "source": [
    "plt.figure(figsize = [12, 5])\n",
    "sns.heatmap(property_rating, annot = True , fmt = '.2f', cmap = 'viridis_r')"
   ]
  },
  {
   "cell_type": "markdown",
   "metadata": {},
   "source": [
    "### Ratings per neighborhood"
   ]
  },
  {
   "cell_type": "code",
   "execution_count": 24,
   "metadata": {},
   "outputs": [
    {
     "data": {
      "text/html": [
       "<div>\n",
       "<style scoped>\n",
       "    .dataframe tbody tr th:only-of-type {\n",
       "        vertical-align: middle;\n",
       "    }\n",
       "\n",
       "    .dataframe tbody tr th {\n",
       "        vertical-align: top;\n",
       "    }\n",
       "\n",
       "    .dataframe thead th {\n",
       "        text-align: right;\n",
       "    }\n",
       "</style>\n",
       "<table border=\"1\" class=\"dataframe\">\n",
       "  <thead>\n",
       "    <tr style=\"text-align: right;\">\n",
       "      <th></th>\n",
       "      <th>overall rating</th>\n",
       "      <th>accuracy</th>\n",
       "      <th>cleanliness</th>\n",
       "      <th>check-in</th>\n",
       "      <th>communication</th>\n",
       "      <th>location</th>\n",
       "      <th>value</th>\n",
       "    </tr>\n",
       "    <tr>\n",
       "      <th>neighbourhood_cleansed</th>\n",
       "      <th></th>\n",
       "      <th></th>\n",
       "      <th></th>\n",
       "      <th></th>\n",
       "      <th></th>\n",
       "      <th></th>\n",
       "      <th></th>\n",
       "    </tr>\n",
       "  </thead>\n",
       "  <tbody>\n",
       "    <tr>\n",
       "      <th>Alcúdia</th>\n",
       "      <td>9.16</td>\n",
       "      <td>9.42</td>\n",
       "      <td>9.27</td>\n",
       "      <td>9.61</td>\n",
       "      <td>9.59</td>\n",
       "      <td>9.51</td>\n",
       "      <td>9.07</td>\n",
       "    </tr>\n",
       "    <tr>\n",
       "      <th>Campos</th>\n",
       "      <td>9.43</td>\n",
       "      <td>9.57</td>\n",
       "      <td>9.44</td>\n",
       "      <td>9.72</td>\n",
       "      <td>9.69</td>\n",
       "      <td>9.36</td>\n",
       "      <td>9.23</td>\n",
       "    </tr>\n",
       "    <tr>\n",
       "      <th>Capdepera</th>\n",
       "      <td>9.18</td>\n",
       "      <td>9.30</td>\n",
       "      <td>9.24</td>\n",
       "      <td>9.58</td>\n",
       "      <td>9.41</td>\n",
       "      <td>9.49</td>\n",
       "      <td>9.00</td>\n",
       "    </tr>\n",
       "    <tr>\n",
       "      <th>Felanitx</th>\n",
       "      <td>9.42</td>\n",
       "      <td>9.57</td>\n",
       "      <td>9.47</td>\n",
       "      <td>9.70</td>\n",
       "      <td>9.66</td>\n",
       "      <td>9.43</td>\n",
       "      <td>9.23</td>\n",
       "    </tr>\n",
       "    <tr>\n",
       "      <th>Llucmajor</th>\n",
       "      <td>9.30</td>\n",
       "      <td>9.44</td>\n",
       "      <td>9.40</td>\n",
       "      <td>9.69</td>\n",
       "      <td>9.65</td>\n",
       "      <td>9.10</td>\n",
       "      <td>9.19</td>\n",
       "    </tr>\n",
       "    <tr>\n",
       "      <th>Manacor</th>\n",
       "      <td>9.48</td>\n",
       "      <td>9.56</td>\n",
       "      <td>9.51</td>\n",
       "      <td>9.69</td>\n",
       "      <td>9.71</td>\n",
       "      <td>9.46</td>\n",
       "      <td>9.32</td>\n",
       "    </tr>\n",
       "    <tr>\n",
       "      <th>Palma de Mallorca</th>\n",
       "      <td>9.19</td>\n",
       "      <td>9.47</td>\n",
       "      <td>9.28</td>\n",
       "      <td>9.65</td>\n",
       "      <td>9.60</td>\n",
       "      <td>9.48</td>\n",
       "      <td>9.07</td>\n",
       "    </tr>\n",
       "    <tr>\n",
       "      <th>Pollença</th>\n",
       "      <td>9.21</td>\n",
       "      <td>9.48</td>\n",
       "      <td>9.33</td>\n",
       "      <td>9.61</td>\n",
       "      <td>9.59</td>\n",
       "      <td>9.57</td>\n",
       "      <td>9.09</td>\n",
       "    </tr>\n",
       "    <tr>\n",
       "      <th>Santa Margalida</th>\n",
       "      <td>9.32</td>\n",
       "      <td>9.58</td>\n",
       "      <td>9.42</td>\n",
       "      <td>9.75</td>\n",
       "      <td>9.65</td>\n",
       "      <td>9.45</td>\n",
       "      <td>9.23</td>\n",
       "    </tr>\n",
       "    <tr>\n",
       "      <th>Santanyí</th>\n",
       "      <td>9.30</td>\n",
       "      <td>9.52</td>\n",
       "      <td>9.33</td>\n",
       "      <td>9.69</td>\n",
       "      <td>9.62</td>\n",
       "      <td>9.62</td>\n",
       "      <td>9.04</td>\n",
       "    </tr>\n",
       "  </tbody>\n",
       "</table>\n",
       "</div>"
      ],
      "text/plain": [
       "                        overall rating  accuracy  cleanliness  check-in  \\\n",
       "neighbourhood_cleansed                                                    \n",
       "Alcúdia                           9.16      9.42         9.27      9.61   \n",
       "Campos                            9.43      9.57         9.44      9.72   \n",
       "Capdepera                         9.18      9.30         9.24      9.58   \n",
       "Felanitx                          9.42      9.57         9.47      9.70   \n",
       "Llucmajor                         9.30      9.44         9.40      9.69   \n",
       "Manacor                           9.48      9.56         9.51      9.69   \n",
       "Palma de Mallorca                 9.19      9.47         9.28      9.65   \n",
       "Pollença                          9.21      9.48         9.33      9.61   \n",
       "Santa Margalida                   9.32      9.58         9.42      9.75   \n",
       "Santanyí                          9.30      9.52         9.33      9.69   \n",
       "\n",
       "                        communication  location  value  \n",
       "neighbourhood_cleansed                                  \n",
       "Alcúdia                          9.59      9.51   9.07  \n",
       "Campos                           9.69      9.36   9.23  \n",
       "Capdepera                        9.41      9.49   9.00  \n",
       "Felanitx                         9.66      9.43   9.23  \n",
       "Llucmajor                        9.65      9.10   9.19  \n",
       "Manacor                          9.71      9.46   9.32  \n",
       "Palma de Mallorca                9.60      9.48   9.07  \n",
       "Pollença                         9.59      9.57   9.09  \n",
       "Santa Margalida                  9.65      9.45   9.23  \n",
       "Santanyí                         9.62      9.62   9.04  "
      ]
     },
     "execution_count": 24,
     "metadata": {},
     "output_type": "execute_result"
    }
   ],
   "source": [
    "reviews_region= reviews.loc[reviews['neighbourhood_cleansed'].isin(top_regions)]\n",
    "\n",
    "region_rating = mean_rating (reviews_region, 'neighbourhood_cleansed')\n",
    "region_rating"
   ]
  },
  {
   "cell_type": "code",
   "execution_count": 26,
   "metadata": {},
   "outputs": [
    {
     "data": {
      "text/plain": [
       "Text(86.5, 0.5, 'region')"
      ]
     },
     "execution_count": 26,
     "metadata": {},
     "output_type": "execute_result"
    },
    {
     "data": {
      "image/png": "[encoded data removed]",
      "text/plain": [
       "<Figure size 864x360 with 2 Axes>"
      ]
     },
     "metadata": {
      "needs_background": "light"
     },
     "output_type": "display_data"
    }
   ],
   "source": [
    "plt.figure(figsize = [12, 5])\n",
    "sns.heatmap(region_rating, annot = True , fmt = '.2f', cmap = 'viridis_r')\n",
    "plt.ylabel('region')"
   ]
  },
  {
   "cell_type": "markdown",
   "metadata": {},
   "source": [
    "## Conclusion\n",
    "In this notebook, we aimed to answer some questions related to Airbnb landscape in Majorca by adopting CRISP-DM process. As of final step of this process, our results have been <b>deployed</b> in a Medium post that can be found [here](https://medium.com/@ayedins/visiting-majorca-after-lockdown-c75a01ed6061).\n"
   ]
  },
  {
   "cell_type": "markdown",
   "metadata": {},
   "source": []
  }
 ],
 "metadata": {
  "kernelspec": {
   "display_name": "Python 3",
   "language": "python",
   "name": "python3"
  },
  "language_info": {
   "codemirror_mode": {
    "name": "ipython",
    "version": 3
   },
   "file_extension": ".py",
   "mimetype": "text/x-python",
   "name": "python",
   "nbconvert_exporter": "python",
   "pygments_lexer": "ipython3",
   "version": "3.7.6"
  }
 },
 "nbformat": 4,
 "nbformat_minor": 4
}
